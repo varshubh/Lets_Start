{
 "cells": [
  {
   "cell_type": "code",
   "execution_count": 84,
   "metadata": {},
   "outputs": [
    {
     "name": "stdout",
     "output_type": "stream",
     "text": [
      "Enter Difference : 2\n",
      "3 4 5 6 7 8 9 0 1 2 "
     ]
    }
   ],
   "source": [
    "def gcd_calc(a, b):\n",
    "    if(b==0):\n",
    "        return a\n",
    "    return gcd_calc(b,a%b)\n",
    "\n",
    "def juggle(arr,diff, length):\n",
    "    diff=diff%length\n",
    "    gcd=gcd_calc(diff,length)\n",
    "    for i in range(gcd): \n",
    "        temp=arr[i]                            \n",
    "        j=i                                    \n",
    "        while 1:\n",
    "            k=j+diff                           \n",
    "            if k>=length:                      \n",
    "                k=k-length                     \n",
    "            if k==i:                          \n",
    "                break                         \n",
    "            arr[j]=arr[k]                     \n",
    "            j=k                               \n",
    "        arr[j]=temp                           \n",
    "    return arr\n",
    "        \n",
    "arr=[1,2,3,4,5,6,7,8,9,0]\n",
    "diff = int(input (\"Enter Difference : \"))\n",
    "arr=juggle(arr, diff, len(arr))\n",
    "\n",
    "for i in range(len(arr)):\n",
    "    print (arr[i], end=\" \")"
   ]
  },
  {
   "cell_type": "code",
   "execution_count": 92,
   "metadata": {},
   "outputs": [
    {
     "name": "stdout",
     "output_type": "stream",
     "text": [
      "ghoda\n",
      "sharma\n",
      "shubham\n"
     ]
    }
   ],
   "source": []
  },
  {
   "cell_type": "code",
   "execution_count": 65,
   "metadata": {},
   "outputs": [
    {
     "name": "stdout",
     "output_type": "stream",
     "text": [
      " 3  4  5  6  7  8  9  0  1  2 "
     ]
    }
   ],
   "source": []
  }
 ],
 "metadata": {
  "kernelspec": {
   "display_name": "Python 3",
   "language": "python",
   "name": "python3"
  },
  "language_info": {
   "codemirror_mode": {
    "name": "ipython",
    "version": 3
   },
   "file_extension": ".py",
   "mimetype": "text/x-python",
   "name": "python",
   "nbconvert_exporter": "python",
   "pygments_lexer": "ipython3",
   "version": "3.7.4"
  }
 },
 "nbformat": 4,
 "nbformat_minor": 2
}
